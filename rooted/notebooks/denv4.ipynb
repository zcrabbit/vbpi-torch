{
 "cells": [
  {
   "cell_type": "code",
   "execution_count": 1,
   "metadata": {},
   "outputs": [],
   "source": [
    "%load_ext autoreload\n",
    "%autoreload 2"
   ]
  },
  {
   "cell_type": "code",
   "execution_count": 2,
   "metadata": {},
   "outputs": [],
   "source": [
    "import sys\n",
    "sys.path.append('../')"
   ]
  },
  {
   "cell_type": "code",
   "execution_count": 3,
   "metadata": {},
   "outputs": [],
   "source": [
    "import torch\n",
    "from dataManipulation import *\n",
    "from utils import tree_summary, summary, summary_raw, get_support_info\n",
    "from vbpi import VBPI"
   ]
  },
  {
   "cell_type": "code",
   "execution_count": 4,
   "metadata": {},
   "outputs": [],
   "source": [
    "# load the sequence data and estimate the subsplit support\n",
    "data, taxa = loadData('../data/DENV4/DENV4.nexus', 'nexus')\n",
    "mcmc_support_trees_dict, mcmc_support_trees_wts = summary('../data/DENV4/DENV4_constant_support_short_run', 'nexus', burnin=2501)\n",
    "rootsplit_supp_dict, subsplit_supp_dict = get_support_info(taxa, mcmc_support_trees_dict)\n",
    "del mcmc_support_trees_dict, mcmc_support_trees_wts"
   ]
  },
  {
   "cell_type": "code",
   "execution_count": 5,
   "metadata": {},
   "outputs": [],
   "source": [
    "# load the ground truth\n",
    "mcmc_sampled_trees_dict, mcmc_sampled_trees_wts, _ = tree_summary('../data/DENV4/DENV4_constant_golden_run.trees', 'nexus', burnin=25001)\n",
    "emp_tree_freq = {mcmc_sampled_trees_dict[tree_id]: tree_wts for tree_id, tree_wts in sorted(mcmc_sampled_trees_wts.items(), key=lambda x:x[1], reverse=True)}\n",
    "sample_info = [1994.0 - float('19'+taxon[-2:]) for taxon in taxa]\n",
    "del mcmc_sampled_trees_dict, mcmc_sampled_trees_wts"
   ]
  },
  {
   "cell_type": "code",
   "execution_count": 6,
   "metadata": {},
   "outputs": [],
   "source": [
    "# set up the model\n",
    "model = VBPI(taxa, rootsplit_supp_dict, subsplit_supp_dict, data, pden=np.ones(4)/4., subModel=('JC', 1.0),\n",
    "             emp_tree_freq=emp_tree_freq, root_height_offset=5.0, clock_rate=1e-3, psp=True,\n",
    "             sample_info=sample_info, coalescent_type='constant', clock_type='strict')"
   ]
  },
  {
   "cell_type": "code",
   "execution_count": 7,
   "metadata": {},
   "outputs": [
    {
     "name": "stdout",
     "output_type": "stream",
     "text": [
      "torch.float32 torch.Size([425])\n",
      "torch.float32 torch.Size([982, 2])\n",
      "torch.float32 torch.Size([2, 1])\n",
      "torch.float32 torch.Size([2, 1])\n"
     ]
    }
   ],
   "source": [
    "# variational parameters\n",
    "for param in model.parameters():\n",
    "    print(param.dtype, param.size())"
   ]
  },
  {
   "cell_type": "code",
   "execution_count": 10,
   "metadata": {},
   "outputs": [
    {
     "name": "stdout",
     "output_type": "stream",
     "text": [
      "Iter 1000:(43.3s) Lower Bound: -4391.7688 | Logll: -6822.3584 | Root Age: 292.0729 | KL: 7.046626\n",
      "Iter 2000:(44.0s) Lower Bound: -4281.3014 | Logll: -4147.5742 | Root Age: 255.1476 | KL: 6.952720\n",
      "Iter 3000:(43.5s) Lower Bound: -4242.2542 | Logll: -4284.5283 | Root Age: 223.1223 | KL: 6.932994\n",
      "Iter 4000:(43.9s) Lower Bound: -4218.5626 | Logll: -4156.1045 | Root Age: 192.2396 | KL: 6.914821\n",
      "Iter 5000:(43.1s) Lower Bound: -4202.6595 | Logll: -4186.6660 | Root Age: 174.3486 | KL: 6.893417\n",
      ">>> Iter 5000:(2.3s) Test Lower Bound: -4468.6187\n",
      "Iter 6000:(43.3s) Lower Bound: -4191.2046 | Logll: -4219.0430 | Root Age: 159.8778 | KL: 6.784171\n",
      "Iter 7000:(44.6s) Lower Bound: -4182.1438 | Logll: -4221.7549 | Root Age: 141.8777 | KL: 6.724048\n",
      "Iter 8000:(44.8s) Lower Bound: -4174.2072 | Logll: -4166.3833 | Root Age: 127.9925 | KL: 6.628641\n",
      "Iter 9000:(43.4s) Lower Bound: -4167.1923 | Logll: -4118.9316 | Root Age: 114.2433 | KL: 6.497280\n",
      "Iter 10000:(44.5s) Lower Bound: -4161.3970 | Logll: -4106.7075 | Root Age: 103.0391 | KL: 6.368653\n",
      ">>> Iter 10000:(2.3s) Test Lower Bound: -4231.0400\n",
      "Iter 11000:(43.2s) Lower Bound: -4157.7294 | Logll: -4091.9919 | Root Age: 93.6538 | KL: 6.257675\n",
      "Iter 12000:(43.6s) Lower Bound: -4153.6493 | Logll: -4101.8140 | Root Age: 86.9133 | KL: 6.118167\n",
      "Iter 13000:(43.0s) Lower Bound: -4150.9804 | Logll: -4124.4897 | Root Age: 81.3940 | KL: 5.976740\n",
      "Iter 14000:(82.3s) Lower Bound: -4148.2052 | Logll: -4115.3740 | Root Age: 77.6458 | KL: 5.824538\n",
      "Iter 15000:(43.7s) Lower Bound: -4146.2391 | Logll: -4100.2852 | Root Age: 74.2480 | KL: 5.653427\n",
      ">>> Iter 15000:(2.3s) Test Lower Bound: -4217.5430\n",
      "Iter 16000:(43.2s) Lower Bound: -4144.3452 | Logll: -4110.8359 | Root Age: 71.9700 | KL: 5.475204\n",
      "Iter 17000:(43.8s) Lower Bound: -4143.2391 | Logll: -4093.4521 | Root Age: 70.2220 | KL: 5.249848\n",
      "Iter 18000:(43.3s) Lower Bound: -4141.9981 | Logll: -4097.8291 | Root Age: 69.2255 | KL: 5.075553\n",
      "Iter 19000:(43.1s) Lower Bound: -4140.8569 | Logll: -4080.2834 | Root Age: 68.4758 | KL: 4.902204\n",
      "Iter 20000:(43.2s) Lower Bound: -4140.0438 | Logll: -4103.1572 | Root Age: 67.7373 | KL: 4.718477\n",
      ">>> Iter 20000:(2.4s) Test Lower Bound: -4165.8130\n",
      "Iter 21000:(43.0s) Lower Bound: -4138.9731 | Logll: -4095.5608 | Root Age: 67.7309 | KL: 4.589598\n",
      "Iter 22000:(43.1s) Lower Bound: -4138.2454 | Logll: -4100.9053 | Root Age: 67.2268 | KL: 4.390029\n",
      "Iter 23000:(42.8s) Lower Bound: -4137.5807 | Logll: -4089.6846 | Root Age: 66.9374 | KL: 4.231761\n",
      "Iter 24000:(43.0s) Lower Bound: -4136.8497 | Logll: -4090.1562 | Root Age: 66.9911 | KL: 4.009963\n",
      "Iter 25000:(43.3s) Lower Bound: -4136.3256 | Logll: -4081.6296 | Root Age: 66.7170 | KL: 3.815249\n",
      ">>> Iter 25000:(2.3s) Test Lower Bound: -4152.1553\n",
      "Iter 26000:(43.1s) Lower Bound: -4135.4697 | Logll: -4088.8008 | Root Age: 66.8253 | KL: 3.578474\n",
      "Iter 27000:(43.4s) Lower Bound: -4134.8326 | Logll: -4079.1125 | Root Age: 66.8462 | KL: 3.358087\n",
      "Iter 28000:(42.1s) Lower Bound: -4134.1244 | Logll: -4100.5723 | Root Age: 66.9588 | KL: 3.137517\n",
      "Iter 29000:(42.8s) Lower Bound: -4133.4109 | Logll: -4102.5898 | Root Age: 67.0589 | KL: 2.899175\n",
      "Iter 30000:(42.7s) Lower Bound: -4132.8707 | Logll: -4081.3447 | Root Age: 66.8454 | KL: 2.678110\n",
      ">>> Iter 30000:(2.3s) Test Lower Bound: -4141.2607\n",
      "Iter 31000:(42.8s) Lower Bound: -4132.3659 | Logll: -4088.5720 | Root Age: 67.0130 | KL: 2.447378\n",
      "Iter 32000:(43.1s) Lower Bound: -4131.7222 | Logll: -4081.1152 | Root Age: 66.7637 | KL: 2.202909\n",
      "Iter 33000:(42.6s) Lower Bound: -4131.4717 | Logll: -4082.7793 | Root Age: 66.7616 | KL: 1.997620\n",
      "Iter 34000:(42.6s) Lower Bound: -4131.0548 | Logll: -4077.7258 | Root Age: 66.3869 | KL: 1.786757\n",
      "Iter 35000:(43.2s) Lower Bound: -4130.6928 | Logll: -4089.0681 | Root Age: 66.7699 | KL: 1.558515\n",
      ">>> Iter 35000:(2.3s) Test Lower Bound: -4136.1309\n",
      "Iter 36000:(42.0s) Lower Bound: -4130.4400 | Logll: -4078.9141 | Root Age: 66.6429 | KL: 1.329051\n",
      "Iter 37000:(42.8s) Lower Bound: -4130.2796 | Logll: -4091.8184 | Root Age: 66.0654 | KL: 1.151461\n",
      "Iter 38000:(43.3s) Lower Bound: -4130.1358 | Logll: -4095.0193 | Root Age: 66.4928 | KL: 0.975741\n",
      "Iter 39000:(41.9s) Lower Bound: -4129.9146 | Logll: -4085.0569 | Root Age: 66.5834 | KL: 0.828478\n",
      "Iter 40000:(42.7s) Lower Bound: -4129.8426 | Logll: -4080.7168 | Root Age: 67.0689 | KL: 0.704823\n",
      ">>> Iter 40000:(2.4s) Test Lower Bound: -4134.2935\n",
      "Iter 41000:(43.1s) Lower Bound: -4129.8071 | Logll: -4088.0134 | Root Age: 66.8833 | KL: 0.613935\n",
      "Iter 42000:(42.1s) Lower Bound: -4129.7095 | Logll: -4085.0403 | Root Age: 66.9308 | KL: 0.531431\n",
      "Iter 43000:(43.1s) Lower Bound: -4129.7014 | Logll: -4081.0259 | Root Age: 67.2149 | KL: 0.459667\n",
      "Iter 44000:(42.6s) Lower Bound: -4129.6469 | Logll: -4073.8640 | Root Age: 67.1205 | KL: 0.398334\n",
      "Iter 45000:(42.1s) Lower Bound: -4129.5948 | Logll: -4088.2117 | Root Age: 66.8016 | KL: 0.346742\n",
      ">>> Iter 45000:(2.3s) Test Lower Bound: -4132.9312\n",
      "Iter 46000:(43.1s) Lower Bound: -4129.5660 | Logll: -4081.8657 | Root Age: 66.9420 | KL: 0.303762\n",
      "Iter 47000:(42.6s) Lower Bound: -4129.5265 | Logll: -4082.9258 | Root Age: 66.7968 | KL: 0.265582\n",
      "Iter 48000:(41.9s) Lower Bound: -4129.5498 | Logll: -4080.6367 | Root Age: 66.8356 | KL: 0.235735\n",
      "Iter 49000:(43.1s) Lower Bound: -4129.5122 | Logll: -4084.0718 | Root Age: 66.9003 | KL: 0.210667\n",
      "Iter 50000:(42.5s) Lower Bound: -4129.4773 | Logll: -4078.4880 | Root Age: 66.7556 | KL: 0.186057\n",
      ">>> Iter 50000:(2.3s) Test Lower Bound: -4132.5566\n",
      "Iter 51000:(42.4s) Lower Bound: -4129.4739 | Logll: -4088.7810 | Root Age: 67.0475 | KL: 0.170591\n",
      "Iter 52000:(42.5s) Lower Bound: -4129.4712 | Logll: -4077.5764 | Root Age: 67.3168 | KL: 0.156763\n",
      "Iter 53000:(42.6s) Lower Bound: -4129.4517 | Logll: -4075.7083 | Root Age: 67.5118 | KL: 0.143890\n",
      "Iter 54000:(42.6s) Lower Bound: -4129.4403 | Logll: -4072.0715 | Root Age: 67.5014 | KL: 0.133871\n",
      "Iter 55000:(42.5s) Lower Bound: -4129.4880 | Logll: -4071.2749 | Root Age: 67.3717 | KL: 0.126938\n",
      ">>> Iter 55000:(2.3s) Test Lower Bound: -4132.2090\n",
      "Iter 56000:(42.0s) Lower Bound: -4129.4629 | Logll: -4076.8635 | Root Age: 67.4783 | KL: 0.120800\n",
      "Iter 57000:(43.2s) Lower Bound: -4129.4799 | Logll: -4075.3230 | Root Age: 67.3179 | KL: 0.116059\n",
      "Iter 58000:(42.6s) Lower Bound: -4129.4384 | Logll: -4079.6497 | Root Age: 67.1239 | KL: 0.111684\n",
      "Iter 59000:(42.1s) Lower Bound: -4129.4894 | Logll: -4087.3591 | Root Age: 67.1863 | KL: 0.109096\n",
      "Iter 60000:(43.0s) Lower Bound: -4129.4533 | Logll: -4088.5227 | Root Age: 66.9575 | KL: 0.106767\n",
      ">>> Iter 60000:(2.3s) Test Lower Bound: -4132.5679\n",
      "Iter 61000:(42.6s) Lower Bound: -4129.4206 | Logll: -4078.9695 | Root Age: 67.0801 | KL: 0.104645\n",
      "Iter 62000:(42.9s) Lower Bound: -4129.4226 | Logll: -4075.8442 | Root Age: 67.0576 | KL: 0.102248\n",
      "Iter 63000:(42.5s) Lower Bound: -4129.4837 | Logll: -4074.2751 | Root Age: 67.2790 | KL: 0.100845\n",
      "Iter 64000:(42.5s) Lower Bound: -4129.4270 | Logll: -4090.2507 | Root Age: 67.5350 | KL: 0.099885\n",
      "Iter 65000:(42.5s) Lower Bound: -4129.4489 | Logll: -4079.7595 | Root Age: 67.7701 | KL: 0.098028\n",
      ">>> Iter 65000:(2.3s) Test Lower Bound: -4132.2041\n",
      "Iter 66000:(42.5s) Lower Bound: -4129.4386 | Logll: -4077.4084 | Root Age: 67.6844 | KL: 0.096896\n",
      "Iter 67000:(42.7s) Lower Bound: -4129.4894 | Logll: -4071.9263 | Root Age: 67.6548 | KL: 0.095972\n",
      "Iter 68000:(42.6s) Lower Bound: -4129.4792 | Logll: -4083.0627 | Root Age: 67.1382 | KL: 0.094672\n",
      "Iter 69000:(42.6s) Lower Bound: -4129.4319 | Logll: -4082.3066 | Root Age: 67.1842 | KL: 0.093293\n",
      "Iter 70000:(42.8s) Lower Bound: -4129.4423 | Logll: -4084.4905 | Root Age: 67.1964 | KL: 0.092147\n",
      ">>> Iter 70000:(2.3s) Test Lower Bound: -4132.1450\n",
      "Iter 71000:(41.9s) Lower Bound: -4129.4668 | Logll: -4078.1548 | Root Age: 67.2424 | KL: 0.091519\n",
      "Iter 72000:(42.5s) Lower Bound: -4129.4243 | Logll: -4081.0759 | Root Age: 67.3349 | KL: 0.091055\n",
      "Iter 73000:(43.2s) Lower Bound: -4129.4505 | Logll: -4086.6191 | Root Age: 67.4152 | KL: 0.090453\n",
      "Iter 74000:(42.0s) Lower Bound: -4129.4320 | Logll: -4087.9355 | Root Age: 66.9135 | KL: 0.090550\n",
      "Iter 75000:(42.7s) Lower Bound: -4129.3894 | Logll: -4088.2417 | Root Age: 67.3903 | KL: 0.090588\n",
      ">>> Iter 75000:(2.3s) Test Lower Bound: -4132.3594\n",
      "Iter 76000:(42.8s) Lower Bound: -4129.4977 | Logll: -4078.6335 | Root Age: 67.3621 | KL: 0.090814\n"
     ]
    },
    {
     "name": "stdout",
     "output_type": "stream",
     "text": [
      "Iter 77000:(43.1s) Lower Bound: -4129.4395 | Logll: -4071.2017 | Root Age: 67.5586 | KL: 0.090789\n",
      "Iter 78000:(43.3s) Lower Bound: -4129.4663 | Logll: -4075.5200 | Root Age: 67.6179 | KL: 0.089983\n",
      "Iter 79000:(42.1s) Lower Bound: -4129.4532 | Logll: -4077.9500 | Root Age: 67.4607 | KL: 0.089456\n",
      "Iter 80000:(43.4s) Lower Bound: -4129.4501 | Logll: -4091.4912 | Root Age: 67.4684 | KL: 0.088091\n",
      ">>> Iter 80000:(2.3s) Test Lower Bound: -4132.5474\n",
      "Iter 81000:(43.2s) Lower Bound: -4129.4579 | Logll: -4083.4104 | Root Age: 67.6153 | KL: 0.087137\n",
      "Iter 82000:(42.1s) Lower Bound: -4129.4265 | Logll: -4075.9065 | Root Age: 67.7705 | KL: 0.086991\n",
      "Iter 83000:(42.7s) Lower Bound: -4129.3986 | Logll: -4070.4470 | Root Age: 67.3839 | KL: 0.087181\n",
      "Iter 84000:(43.1s) Lower Bound: -4129.4170 | Logll: -4076.7336 | Root Age: 67.3592 | KL: 0.087120\n",
      "Iter 85000:(42.1s) Lower Bound: -4129.4187 | Logll: -4075.3955 | Root Age: 67.1883 | KL: 0.087114\n",
      ">>> Iter 85000:(2.3s) Test Lower Bound: -4132.4302\n",
      "Iter 86000:(43.3s) Lower Bound: -4129.4259 | Logll: -4080.9038 | Root Age: 67.0677 | KL: 0.087071\n",
      "Iter 87000:(42.6s) Lower Bound: -4129.4273 | Logll: -4078.2332 | Root Age: 67.4208 | KL: 0.086910\n",
      "Iter 88000:(42.1s) Lower Bound: -4129.4741 | Logll: -4089.3787 | Root Age: 67.5576 | KL: 0.086352\n",
      "Iter 89000:(43.2s) Lower Bound: -4129.4488 | Logll: -4077.5881 | Root Age: 67.5825 | KL: 0.086425\n",
      "Iter 90000:(42.6s) Lower Bound: -4129.4523 | Logll: -4077.8069 | Root Age: 67.4382 | KL: 0.086148\n",
      ">>> Iter 90000:(2.3s) Test Lower Bound: -4132.2358\n",
      "Iter 91000:(42.0s) Lower Bound: -4129.4752 | Logll: -4071.7385 | Root Age: 67.2657 | KL: 0.085462\n",
      "Iter 92000:(43.1s) Lower Bound: -4129.4544 | Logll: -4080.2349 | Root Age: 67.3407 | KL: 0.085160\n",
      "Iter 93000:(42.6s) Lower Bound: -4129.4286 | Logll: -4075.4321 | Root Age: 67.3658 | KL: 0.084754\n",
      "Iter 94000:(42.4s) Lower Bound: -4129.4482 | Logll: -4085.3872 | Root Age: 67.2730 | KL: 0.084404\n",
      "Iter 95000:(42.7s) Lower Bound: -4129.4430 | Logll: -4077.0979 | Root Age: 67.3854 | KL: 0.084312\n",
      ">>> Iter 95000:(2.3s) Test Lower Bound: -4132.2021\n",
      "Iter 96000:(42.1s) Lower Bound: -4129.4624 | Logll: -4074.0754 | Root Age: 67.1014 | KL: 0.084261\n",
      "Iter 97000:(42.6s) Lower Bound: -4129.4290 | Logll: -4072.0303 | Root Age: 67.3792 | KL: 0.084117\n",
      "Iter 98000:(42.8s) Lower Bound: -4129.4055 | Logll: -4073.6467 | Root Age: 67.5329 | KL: 0.084285\n",
      "Iter 99000:(42.0s) Lower Bound: -4129.4382 | Logll: -4081.5952 | Root Age: 67.3933 | KL: 0.083830\n",
      "Iter 100000:(43.1s) Lower Bound: -4129.4623 | Logll: -4074.5339 | Root Age: 67.2272 | KL: 0.083845\n",
      ">>> Iter 100000:(2.3s) Test Lower Bound: -4132.3184\n",
      "Iter 101000:(42.6s) Lower Bound: -4129.4394 | Logll: -4084.3408 | Root Age: 67.0079 | KL: 0.083448\n",
      "Iter 102000:(42.3s) Lower Bound: -4129.4084 | Logll: -4074.8589 | Root Age: 67.1063 | KL: 0.083430\n",
      "Iter 103000:(43.0s) Lower Bound: -4129.4429 | Logll: -4083.3149 | Root Age: 67.1811 | KL: 0.083155\n",
      "Iter 104000:(42.7s) Lower Bound: -4129.4296 | Logll: -4103.9087 | Root Age: 67.3736 | KL: 0.082932\n",
      "Iter 105000:(42.8s) Lower Bound: -4129.4116 | Logll: -4092.8320 | Root Age: 67.5692 | KL: 0.083062\n",
      ">>> Iter 105000:(2.3s) Test Lower Bound: -4132.5132\n",
      "Iter 106000:(42.7s) Lower Bound: -4129.4366 | Logll: -4075.0710 | Root Age: 67.4531 | KL: 0.083335\n",
      "Iter 107000:(43.5s) Lower Bound: -4129.4241 | Logll: -4078.6406 | Root Age: 67.2621 | KL: 0.082769\n",
      "Iter 108000:(42.7s) Lower Bound: -4129.3968 | Logll: -4082.3870 | Root Age: 67.2893 | KL: 0.082622\n",
      "Iter 109000:(42.6s) Lower Bound: -4129.4544 | Logll: -4078.4138 | Root Age: 67.3075 | KL: 0.082629\n",
      "Iter 110000:(42.2s) Lower Bound: -4129.4145 | Logll: -4082.6279 | Root Age: 67.2028 | KL: 0.082553\n",
      ">>> Iter 110000:(2.4s) Test Lower Bound: -4132.0767\n",
      "Iter 111000:(42.2s) Lower Bound: -4129.4577 | Logll: -4084.5767 | Root Age: 67.0640 | KL: 0.082628\n",
      "Iter 112000:(42.6s) Lower Bound: -4129.3889 | Logll: -4076.2310 | Root Age: 66.8379 | KL: 0.082768\n",
      "Iter 113000:(42.6s) Lower Bound: -4129.4528 | Logll: -4081.0547 | Root Age: 66.9129 | KL: 0.082859\n",
      "Iter 114000:(42.0s) Lower Bound: -4129.4329 | Logll: -4072.5552 | Root Age: 67.0740 | KL: 0.082453\n",
      "Iter 115000:(42.7s) Lower Bound: -4129.4214 | Logll: -4080.2126 | Root Age: 66.8804 | KL: 0.082411\n",
      ">>> Iter 115000:(2.4s) Test Lower Bound: -4132.2227\n",
      "Iter 116000:(42.9s) Lower Bound: -4129.4215 | Logll: -4070.3530 | Root Age: 66.9202 | KL: 0.082462\n",
      "Iter 117000:(42.7s) Lower Bound: -4129.4442 | Logll: -4074.1145 | Root Age: 66.9668 | KL: 0.082347\n",
      "Iter 118000:(42.8s) Lower Bound: -4129.3925 | Logll: -4072.4104 | Root Age: 66.9940 | KL: 0.082382\n",
      "Iter 119000:(43.5s) Lower Bound: -4129.4641 | Logll: -4081.6497 | Root Age: 67.1187 | KL: 0.082187\n",
      "Iter 120000:(42.7s) Lower Bound: -4129.4700 | Logll: -4097.2549 | Root Age: 67.3122 | KL: 0.081990\n",
      ">>> Iter 120000:(2.3s) Test Lower Bound: -4132.0488\n",
      "Iter 121000:(42.5s) Lower Bound: -4129.4362 | Logll: -4079.6233 | Root Age: 67.4821 | KL: 0.081833\n",
      "Iter 122000:(42.6s) Lower Bound: -4129.4289 | Logll: -4083.9465 | Root Age: 67.4501 | KL: 0.081869\n",
      "Iter 123000:(42.6s) Lower Bound: -4129.4432 | Logll: -4084.6194 | Root Age: 67.3676 | KL: 0.081811\n",
      "Iter 124000:(42.5s) Lower Bound: -4129.4351 | Logll: -4080.9937 | Root Age: 67.3472 | KL: 0.081882\n",
      "Iter 125000:(42.5s) Lower Bound: -4129.4463 | Logll: -4071.3315 | Root Age: 67.3751 | KL: 0.081864\n",
      ">>> Iter 125000:(2.3s) Test Lower Bound: -4132.0513\n",
      "Iter 126000:(42.8s) Lower Bound: -4129.5192 | Logll: -4080.1055 | Root Age: 67.3054 | KL: 0.081706\n",
      "Iter 127000:(42.5s) Lower Bound: -4129.4373 | Logll: -4083.9067 | Root Age: 67.4196 | KL: 0.081608\n",
      "Iter 128000:(42.5s) Lower Bound: -4129.4344 | Logll: -4075.7544 | Root Age: 67.4967 | KL: 0.081580\n",
      "Iter 129000:(43.2s) Lower Bound: -4129.4267 | Logll: -4090.8337 | Root Age: 67.3343 | KL: 0.081482\n",
      "Iter 130000:(42.1s) Lower Bound: -4129.4053 | Logll: -4076.2073 | Root Age: 67.2599 | KL: 0.081532\n",
      ">>> Iter 130000:(2.3s) Test Lower Bound: -4132.1611\n",
      "Iter 131000:(42.8s) Lower Bound: -4129.4508 | Logll: -4080.7458 | Root Age: 67.2573 | KL: 0.081458\n",
      "Iter 132000:(42.7s) Lower Bound: -4129.4188 | Logll: -4071.5332 | Root Age: 67.1542 | KL: 0.081551\n",
      "Iter 133000:(42.6s) Lower Bound: -4129.4775 | Logll: -4083.4194 | Root Age: 67.4852 | KL: 0.081390\n",
      "Iter 134000:(42.7s) Lower Bound: -4129.4382 | Logll: -4075.9834 | Root Age: 67.3853 | KL: 0.081422\n",
      "Iter 135000:(42.5s) Lower Bound: -4129.4287 | Logll: -4075.8892 | Root Age: 67.2309 | KL: 0.081476\n",
      ">>> Iter 135000:(2.3s) Test Lower Bound: -4132.1138\n",
      "Iter 136000:(42.6s) Lower Bound: -4129.4580 | Logll: -4074.7766 | Root Age: 67.3988 | KL: 0.081518\n",
      "Iter 137000:(43.2s) Lower Bound: -4129.4081 | Logll: -4078.9409 | Root Age: 67.2904 | KL: 0.081578\n",
      "Iter 138000:(42.2s) Lower Bound: -4129.4547 | Logll: -4074.3806 | Root Age: 67.2311 | KL: 0.081592\n",
      "Iter 139000:(42.5s) Lower Bound: -4129.3897 | Logll: -4077.7783 | Root Age: 67.4113 | KL: 0.081475\n",
      "Iter 140000:(43.2s) Lower Bound: -4129.4492 | Logll: -4080.8967 | Root Age: 67.2711 | KL: 0.081575\n",
      ">>> Iter 140000:(2.3s) Test Lower Bound: -4132.0112\n",
      "Iter 141000:(41.9s) Lower Bound: -4129.4166 | Logll: -4086.5010 | Root Age: 67.1430 | KL: 0.081520\n",
      "Iter 142000:(42.6s) Lower Bound: -4129.4327 | Logll: -4086.0015 | Root Age: 67.1808 | KL: 0.081447\n",
      "Iter 143000:(43.4s) Lower Bound: -4129.3801 | Logll: -4073.6206 | Root Age: 67.2650 | KL: 0.081402\n",
      "Iter 144000:(42.0s) Lower Bound: -4129.4203 | Logll: -4091.9841 | Root Age: 67.1586 | KL: 0.081345\n",
      "Iter 145000:(43.0s) Lower Bound: -4129.4199 | Logll: -4072.8130 | Root Age: 67.1387 | KL: 0.081291\n",
      ">>> Iter 145000:(2.4s) Test Lower Bound: -4132.3188\n",
      "Iter 146000:(41.9s) Lower Bound: -4129.4047 | Logll: -4072.4009 | Root Age: 67.2247 | KL: 0.081334\n",
      "Iter 147000:(42.0s) Lower Bound: -4129.4291 | Logll: -4077.2539 | Root Age: 67.2943 | KL: 0.081224\n",
      "Iter 148000:(43.1s) Lower Bound: -4129.4721 | Logll: -4074.6763 | Root Age: 67.2482 | KL: 0.081277\n",
      "Iter 149000:(42.0s) Lower Bound: -4129.4277 | Logll: -4084.5186 | Root Age: 67.0494 | KL: 0.081408\n",
      "Iter 150000:(42.6s) Lower Bound: -4129.4124 | Logll: -4075.9912 | Root Age: 67.2659 | KL: 0.081347\n",
      ">>> Iter 150000:(2.3s) Test Lower Bound: -4132.4331\n",
      "Iter 151000:(43.1s) Lower Bound: -4129.4436 | Logll: -4075.1592 | Root Age: 67.4778 | KL: 0.081470\n",
      "Iter 152000:(42.0s) Lower Bound: -4129.4674 | Logll: -4081.7673 | Root Age: 67.5028 | KL: 0.081582\n"
     ]
    },
    {
     "name": "stdout",
     "output_type": "stream",
     "text": [
      "Iter 153000:(42.7s) Lower Bound: -4129.4222 | Logll: -4078.1643 | Root Age: 67.4306 | KL: 0.081617\n",
      "Iter 154000:(43.2s) Lower Bound: -4129.4409 | Logll: -4077.5940 | Root Age: 67.4009 | KL: 0.081686\n",
      "Iter 155000:(42.7s) Lower Bound: -4129.4177 | Logll: -4078.7253 | Root Age: 67.3326 | KL: 0.081636\n",
      ">>> Iter 155000:(2.3s) Test Lower Bound: -4132.2695\n",
      "Iter 156000:(43.6s) Lower Bound: -4129.4318 | Logll: -4073.6677 | Root Age: 67.2783 | KL: 0.081587\n",
      "Iter 157000:(42.4s) Lower Bound: -4129.4602 | Logll: -4072.6575 | Root Age: 67.0638 | KL: 0.081504\n",
      "Iter 158000:(42.3s) Lower Bound: -4129.4488 | Logll: -4076.3843 | Root Age: 67.1319 | KL: 0.081463\n",
      "Iter 159000:(43.3s) Lower Bound: -4129.4403 | Logll: -4082.3059 | Root Age: 67.3616 | KL: 0.081462\n",
      "Iter 160000:(42.0s) Lower Bound: -4129.4291 | Logll: -4077.0435 | Root Age: 67.3667 | KL: 0.081508\n",
      ">>> Iter 160000:(2.3s) Test Lower Bound: -4131.9297\n",
      "Iter 161000:(42.8s) Lower Bound: -4129.4557 | Logll: -4095.9087 | Root Age: 67.4459 | KL: 0.081458\n",
      "Iter 162000:(43.4s) Lower Bound: -4129.4406 | Logll: -4079.2983 | Root Age: 67.4910 | KL: 0.081495\n",
      "Iter 163000:(42.3s) Lower Bound: -4129.4315 | Logll: -4072.0332 | Root Age: 67.3383 | KL: 0.081478\n",
      "Iter 164000:(43.4s) Lower Bound: -4129.4314 | Logll: -4074.6685 | Root Age: 67.2753 | KL: 0.081411\n",
      "Iter 165000:(42.7s) Lower Bound: -4129.4184 | Logll: -4077.0349 | Root Age: 67.1687 | KL: 0.081422\n",
      ">>> Iter 165000:(2.3s) Test Lower Bound: -4132.1172\n",
      "Iter 166000:(42.0s) Lower Bound: -4129.4215 | Logll: -4073.3013 | Root Age: 67.1523 | KL: 0.081288\n",
      "Iter 167000:(43.3s) Lower Bound: -4129.4089 | Logll: -4076.7200 | Root Age: 67.2308 | KL: 0.081237\n",
      "Iter 168000:(42.2s) Lower Bound: -4129.4600 | Logll: -4082.0767 | Root Age: 67.4135 | KL: 0.081196\n",
      "Iter 169000:(42.6s) Lower Bound: -4129.4394 | Logll: -4078.5349 | Root Age: 67.3303 | KL: 0.081189\n",
      "Iter 170000:(43.2s) Lower Bound: -4129.4328 | Logll: -4074.4441 | Root Age: 67.4223 | KL: 0.081171\n",
      ">>> Iter 170000:(2.3s) Test Lower Bound: -4132.4331\n",
      "Iter 171000:(42.2s) Lower Bound: -4129.4222 | Logll: -4081.0425 | Root Age: 67.4432 | KL: 0.081102\n",
      "Iter 172000:(43.3s) Lower Bound: -4129.4568 | Logll: -4081.0547 | Root Age: 67.3754 | KL: 0.081121\n",
      "Iter 173000:(42.8s) Lower Bound: -4129.4466 | Logll: -4083.7437 | Root Age: 67.3170 | KL: 0.081171\n",
      "Iter 174000:(42.1s) Lower Bound: -4129.4276 | Logll: -4073.7981 | Root Age: 67.2375 | KL: 0.081136\n",
      "Iter 175000:(43.2s) Lower Bound: -4129.4633 | Logll: -4077.5923 | Root Age: 67.3099 | KL: 0.081179\n",
      ">>> Iter 175000:(2.3s) Test Lower Bound: -4132.1206\n",
      "Iter 176000:(42.0s) Lower Bound: -4129.4278 | Logll: -4085.4075 | Root Age: 67.3841 | KL: 0.081162\n",
      "Iter 177000:(42.2s) Lower Bound: -4129.4211 | Logll: -4075.5012 | Root Age: 67.4613 | KL: 0.081179\n",
      "Iter 178000:(43.4s) Lower Bound: -4129.4727 | Logll: -4074.1514 | Root Age: 67.4380 | KL: 0.081151\n",
      "Iter 179000:(42.1s) Lower Bound: -4129.3887 | Logll: -4078.6003 | Root Age: 67.3763 | KL: 0.081163\n",
      "Iter 180000:(43.3s) Lower Bound: -4129.3808 | Logll: -4077.4707 | Root Age: 67.4612 | KL: 0.081261\n",
      ">>> Iter 180000:(2.3s) Test Lower Bound: -4132.2065\n",
      "Iter 181000:(42.6s) Lower Bound: -4129.3804 | Logll: -4085.7222 | Root Age: 67.4245 | KL: 0.081316\n",
      "Iter 182000:(42.0s) Lower Bound: -4129.4454 | Logll: -4080.4500 | Root Age: 67.4556 | KL: 0.081327\n",
      "Iter 183000:(43.4s) Lower Bound: -4129.4322 | Logll: -4084.9028 | Root Age: 67.3617 | KL: 0.081219\n",
      "Iter 184000:(42.6s) Lower Bound: -4129.4683 | Logll: -4077.1616 | Root Age: 67.3179 | KL: 0.081106\n",
      "Iter 185000:(42.1s) Lower Bound: -4129.4160 | Logll: -4086.6934 | Root Age: 67.4648 | KL: 0.081107\n",
      ">>> Iter 185000:(2.4s) Test Lower Bound: -4132.0361\n",
      "Iter 186000:(43.7s) Lower Bound: -4129.4489 | Logll: -4074.3306 | Root Age: 67.3853 | KL: 0.081159\n",
      "Iter 187000:(43.1s) Lower Bound: -4129.4268 | Logll: -4095.8545 | Root Age: 67.3718 | KL: 0.081134\n",
      "Iter 188000:(43.0s) Lower Bound: -4129.4253 | Logll: -4074.6760 | Root Age: 67.3129 | KL: 0.081067\n",
      "Iter 189000:(43.4s) Lower Bound: -4129.4755 | Logll: -4074.7373 | Root Age: 67.2984 | KL: 0.081092\n",
      "Iter 190000:(43.6s) Lower Bound: -4129.3962 | Logll: -4077.2925 | Root Age: 67.2756 | KL: 0.081090\n",
      ">>> Iter 190000:(2.3s) Test Lower Bound: -4132.2534\n",
      "Iter 191000:(43.0s) Lower Bound: -4129.4178 | Logll: -4073.1616 | Root Age: 67.2949 | KL: 0.081045\n",
      "Iter 192000:(42.8s) Lower Bound: -4129.4384 | Logll: -4084.3850 | Root Age: 67.2545 | KL: 0.081007\n",
      "Iter 193000:(42.9s) Lower Bound: -4129.4503 | Logll: -4076.7395 | Root Age: 67.3064 | KL: 0.080996\n",
      "Iter 194000:(43.1s) Lower Bound: -4129.4355 | Logll: -4084.8762 | Root Age: 67.1663 | KL: 0.081001\n",
      "Iter 195000:(42.8s) Lower Bound: -4129.4760 | Logll: -4077.7749 | Root Age: 67.2108 | KL: 0.080973\n",
      ">>> Iter 195000:(2.3s) Test Lower Bound: -4131.9907\n",
      "Iter 196000:(42.9s) Lower Bound: -4129.4124 | Logll: -4082.0525 | Root Age: 67.1961 | KL: 0.080950\n",
      "Iter 197000:(42.8s) Lower Bound: -4129.4549 | Logll: -4077.5591 | Root Age: 67.3534 | KL: 0.080927\n",
      "Iter 198000:(43.4s) Lower Bound: -4129.4216 | Logll: -4084.4502 | Root Age: 67.2216 | KL: 0.080952\n",
      "Iter 199000:(43.4s) Lower Bound: -4129.4284 | Logll: -4078.7229 | Root Age: 67.4163 | KL: 0.080992\n",
      "Iter 200000:(43.3s) Lower Bound: -4129.4173 | Logll: -4076.4771 | Root Age: 67.3720 | KL: 0.080993\n",
      ">>> Iter 200000:(2.3s) Test Lower Bound: -4132.1504\n"
     ]
    }
   ],
   "source": [
    "# run vbpi.\n",
    "# the trained model will be saved to 'results/DENV4/mcmc_vimco_10_psp_constant_strict.pt'.\n",
    "test_lb, test_kl_div = model.learn(0.001, maxiter=200000, n_particles=10, warm_start_interval=50000, method='vimco',\n",
    "                                   save_to_path='../results/DENV4/mcmc_vimco_10_psp_constant_strict.pt')"
   ]
  },
  {
   "cell_type": "code",
   "execution_count": 8,
   "metadata": {},
   "outputs": [],
   "source": [
    "# load a trained model/checkpoint for test\n",
    "model.load_from('../results/DENV4/mcmc_vimco_10_psp_constant_strict.pt')"
   ]
  },
  {
   "cell_type": "code",
   "execution_count": 9,
   "metadata": {},
   "outputs": [],
   "source": [
    "# sample effective population size\n",
    "with torch.no_grad():\n",
    "    vbpi_pop_size, _ = model.tree_prior_model.sample_pop_size(n_particles=75000)\n",
    "    vbpi_pop_size = vbpi_pop_size.exp().squeeze()"
   ]
  },
  {
   "cell_type": "code",
   "execution_count": 10,
   "metadata": {},
   "outputs": [
    {
     "data": {
      "text/plain": [
       "tensor([31.9729, 26.5911, 21.6218,  ..., 26.8124, 22.4801, 41.4166])"
      ]
     },
     "execution_count": 10,
     "metadata": {},
     "output_type": "execute_result"
    }
   ],
   "source": [
    "vbpi_pop_size"
   ]
  },
  {
   "cell_type": "code",
   "execution_count": null,
   "metadata": {},
   "outputs": [],
   "source": []
  }
 ],
 "metadata": {
  "kernelspec": {
   "display_name": "Python 3",
   "language": "python",
   "name": "python3"
  },
  "language_info": {
   "codemirror_mode": {
    "name": "ipython",
    "version": 3
   },
   "file_extension": ".py",
   "mimetype": "text/x-python",
   "name": "python",
   "nbconvert_exporter": "python",
   "pygments_lexer": "ipython3",
   "version": "3.7.9"
  }
 },
 "nbformat": 4,
 "nbformat_minor": 5
}
