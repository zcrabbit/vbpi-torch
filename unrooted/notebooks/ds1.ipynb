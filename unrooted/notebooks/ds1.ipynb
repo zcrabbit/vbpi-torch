{
 "cells": [
  {
   "cell_type": "code",
   "execution_count": 1,
   "id": "87e23611",
   "metadata": {},
   "outputs": [],
   "source": [
    "%load_ext autoreload\n",
    "%autoreload 2"
   ]
  },
  {
   "cell_type": "code",
   "execution_count": null,
   "id": "85e4ea66",
   "metadata": {},
   "outputs": [],
   "source": [
    "import sys\n",
    "sys.path.append('../')"
   ]
  },
  {
   "cell_type": "code",
   "execution_count": 3,
   "id": "02527939",
   "metadata": {},
   "outputs": [],
   "source": [
    "import numpy as np\n",
    "from dataManipulation import *\n",
    "from utils import summary, summary_raw, get_support_from_mcmc\n",
    "from vbpi import VBPI"
   ]
  },
  {
   "cell_type": "code",
   "execution_count": 4,
   "id": "3b688620",
   "metadata": {},
   "outputs": [],
   "source": [
    "# load the sequence data and estimate the subsplit support\n",
    "data, taxa = loadData('../data/hohna_datasets_fasta/DS1.fasta', 'fasta')\n",
    "tree_dict_ufboot, tree_names_ufboot = summary_raw('DS1', '../data/ufboot_data_DS1-11/')\n",
    "rootsplit_supp_dict, subsplit_supp_dict = get_support_from_mcmc(taxa, tree_dict_ufboot, tree_names_ufboot)\n",
    "del tree_dict_ufboot, tree_names_ufboot"
   ]
  },
  {
   "cell_type": "code",
   "execution_count": 5,
   "id": "1ec40bd1",
   "metadata": {},
   "outputs": [],
   "source": [
    "# load the ground truth\n",
    "tree_dict_total, tree_names_total, tree_wts_total = summary('DS1', '../data/raw_data_DS1-11/')\n",
    "emp_tree_freq = {tree_dict_total[tree_name]:tree_wts_total[i] for i, tree_name in enumerate(tree_names_total)}\n",
    "del tree_dict_total, tree_names_total, tree_wts_total"
   ]
  },
  {
   "cell_type": "code",
   "execution_count": 6,
   "id": "0babe847",
   "metadata": {},
   "outputs": [],
   "source": [
    "# set up the model\n",
    "model = VBPI(taxa, rootsplit_supp_dict, subsplit_supp_dict, data, pden=np.ones(4)/4, subModel=('JC', 1.0),\n",
    "             emp_tree_freq=emp_tree_freq, psp=True)"
   ]
  },
  {
   "cell_type": "code",
   "execution_count": 7,
   "id": "ff12c93f",
   "metadata": {},
   "outputs": [
    {
     "name": "stdout",
     "output_type": "stream",
     "text": [
      "torch.float32 torch.Size([8235])\n",
      "torch.float32 torch.Size([2771, 2])\n"
     ]
    }
   ],
   "source": [
    "# variational parameters\n",
    "for param in model.parameters():\n",
    "    print(param.dtype, param.size())"
   ]
  },
  {
   "cell_type": "code",
   "execution_count": 8,
   "id": "a6f5721a",
   "metadata": {},
   "outputs": [
    {
     "name": "stdout",
     "output_type": "stream",
     "text": [
      "Iter 1000:(75.1s) Lower Bound: -14251.3226 | Loglikelihood: -10710.3184 | KL: 25.867969\n",
      "Iter 2000:(73.2s) Lower Bound: -10251.6487 | Loglikelihood: -8553.8311 | KL: 25.476149\n",
      "Iter 3000:(74.8s) Lower Bound: -8767.9784 | Loglikelihood: -7781.5278 | KL: 24.843501\n",
      "Iter 4000:(75.8s) Lower Bound: -8134.7211 | Loglikelihood: -7522.0947 | KL: 24.317473\n",
      "Iter 5000:(76.0s) Lower Bound: -7821.5830 | Loglikelihood: -7337.3716 | KL: 23.771647\n",
      ">>> Iter 5000:(3.3s) Test Lower Bound: -8237.4082\n",
      "Iter 6000:(77.0s) Lower Bound: -7639.5721 | Loglikelihood: -7227.2485 | KL: 23.118502\n",
      "Iter 7000:(76.9s) Lower Bound: -7529.7799 | Loglikelihood: -7170.9951 | KL: 22.624282\n",
      "Iter 8000:(76.4s) Lower Bound: -7450.8802 | Loglikelihood: -7088.6592 | KL: 21.982051\n",
      "Iter 9000:(76.9s) Lower Bound: -7400.3036 | Loglikelihood: -7114.2925 | KL: 21.217974\n",
      "Iter 10000:(76.6s) Lower Bound: -7360.2487 | Loglikelihood: -7086.0581 | KL: 20.417465\n",
      ">>> Iter 10000:(3.2s) Test Lower Bound: -7739.1187\n",
      "Iter 11000:(76.6s) Lower Bound: -7328.7671 | Loglikelihood: -7045.6431 | KL: 19.588446\n",
      "Iter 12000:(76.4s) Lower Bound: -7303.3780 | Loglikelihood: -7052.0249 | KL: 18.931727\n",
      "Iter 13000:(77.5s) Lower Bound: -7283.0605 | Loglikelihood: -7037.2017 | KL: 18.062453\n",
      "Iter 14000:(76.0s) Lower Bound: -7265.4566 | Loglikelihood: -7030.3394 | KL: 17.251487\n",
      "Iter 15000:(76.2s) Lower Bound: -7251.8425 | Loglikelihood: -7008.0430 | KL: 16.262522\n",
      ">>> Iter 15000:(3.2s) Test Lower Bound: -7545.7334\n",
      "Iter 16000:(76.9s) Lower Bound: -7236.9063 | Loglikelihood: -7006.4897 | KL: 15.374757\n",
      "Iter 17000:(75.3s) Lower Bound: -7224.9800 | Loglikelihood: -7000.1812 | KL: 14.560924\n",
      "Iter 18000:(76.1s) Lower Bound: -7214.5983 | Loglikelihood: -6965.1553 | KL: 13.821651\n",
      "Iter 19000:(75.2s) Lower Bound: -7204.2875 | Loglikelihood: -6961.1929 | KL: 13.072253\n",
      "Iter 20000:(74.8s) Lower Bound: -7197.2450 | Loglikelihood: -6978.2212 | KL: 12.337678\n",
      ">>> Iter 20000:(3.2s) Test Lower Bound: -7424.0068\n",
      "Iter 21000:(75.2s) Lower Bound: -7189.2889 | Loglikelihood: -6973.4917 | KL: 11.660912\n",
      "Iter 22000:(74.7s) Lower Bound: -7183.3313 | Loglikelihood: -6961.3394 | KL: 11.153298\n",
      "Iter 23000:(74.9s) Lower Bound: -7177.0900 | Loglikelihood: -6956.3687 | KL: 10.645588\n",
      "Iter 24000:(75.2s) Lower Bound: -7171.3336 | Loglikelihood: -6948.1138 | KL: 10.101049\n",
      "Iter 25000:(74.8s) Lower Bound: -7168.1183 | Loglikelihood: -6955.4653 | KL: 9.559838\n",
      ">>> Iter 25000:(3.2s) Test Lower Bound: -7465.0576\n",
      "Iter 26000:(73.1s) Lower Bound: -7162.2353 | Loglikelihood: -6946.9746 | KL: 9.062845\n",
      "Iter 27000:(73.9s) Lower Bound: -7157.6877 | Loglikelihood: -6946.6807 | KL: 8.589478\n",
      "Iter 28000:(75.2s) Lower Bound: -7154.8503 | Loglikelihood: -6941.4897 | KL: 8.115565\n",
      "Iter 29000:(72.7s) Lower Bound: -7150.7719 | Loglikelihood: -6940.2168 | KL: 7.643286\n",
      "Iter 30000:(74.2s) Lower Bound: -7147.6337 | Loglikelihood: -6940.1230 | KL: 7.124582\n",
      ">>> Iter 30000:(3.2s) Test Lower Bound: -7281.7520\n",
      "Iter 31000:(73.1s) Lower Bound: -7145.3802 | Loglikelihood: -6933.2588 | KL: 6.720977\n",
      "Iter 32000:(72.4s) Lower Bound: -7141.6110 | Loglikelihood: -6933.5850 | KL: 6.243000\n",
      "Iter 33000:(73.6s) Lower Bound: -7139.1306 | Loglikelihood: -6924.5928 | KL: 5.801726\n",
      "Iter 34000:(73.8s) Lower Bound: -7136.4216 | Loglikelihood: -6930.4194 | KL: 5.325209\n",
      "Iter 35000:(73.4s) Lower Bound: -7133.9002 | Loglikelihood: -6926.5718 | KL: 4.924270\n",
      ">>> Iter 35000:(3.2s) Test Lower Bound: -7216.9302\n",
      "Iter 36000:(72.8s) Lower Bound: -7131.9882 | Loglikelihood: -6926.2236 | KL: 4.511802\n",
      "Iter 37000:(73.0s) Lower Bound: -7130.2066 | Loglikelihood: -6924.2183 | KL: 4.151739\n",
      "Iter 38000:(72.1s) Lower Bound: -7127.9789 | Loglikelihood: -6923.8428 | KL: 3.842261\n",
      "Iter 39000:(72.4s) Lower Bound: -7126.2619 | Loglikelihood: -6912.5649 | KL: 3.521214\n",
      "Iter 40000:(72.5s) Lower Bound: -7124.7150 | Loglikelihood: -6919.8594 | KL: 3.168044\n",
      ">>> Iter 40000:(3.3s) Test Lower Bound: -7197.6831\n",
      "Iter 41000:(71.5s) Lower Bound: -7123.3346 | Loglikelihood: -6916.5474 | KL: 2.959363\n",
      "Iter 42000:(72.6s) Lower Bound: -7121.8018 | Loglikelihood: -6918.1738 | KL: 2.746926\n",
      "Iter 43000:(71.3s) Lower Bound: -7121.4263 | Loglikelihood: -6911.4839 | KL: 2.566169\n",
      "Iter 44000:(71.3s) Lower Bound: -7119.9540 | Loglikelihood: -6913.8330 | KL: 2.374533\n",
      "Iter 45000:(72.5s) Lower Bound: -7118.7551 | Loglikelihood: -6913.1992 | KL: 2.193448\n",
      ">>> Iter 45000:(3.1s) Test Lower Bound: -7173.3252\n",
      "Iter 46000:(71.3s) Lower Bound: -7118.0170 | Loglikelihood: -6912.2896 | KL: 2.033342\n",
      "Iter 47000:(72.4s) Lower Bound: -7117.6378 | Loglikelihood: -6910.3301 | KL: 1.900642\n",
      "Iter 48000:(71.3s) Lower Bound: -7116.6205 | Loglikelihood: -6907.2959 | KL: 1.749015\n",
      "Iter 49000:(72.5s) Lower Bound: -7115.8569 | Loglikelihood: -6911.8608 | KL: 1.650171\n",
      "Iter 50000:(71.6s) Lower Bound: -7115.0021 | Loglikelihood: -6910.3652 | KL: 1.545152\n",
      ">>> Iter 50000:(3.8s) Test Lower Bound: -7142.8003\n",
      "Iter 51000:(71.3s) Lower Bound: -7114.8479 | Loglikelihood: -6909.9639 | KL: 1.447344\n",
      "Iter 52000:(71.0s) Lower Bound: -7114.2675 | Loglikelihood: -6906.9741 | KL: 1.352197\n",
      "Iter 53000:(71.6s) Lower Bound: -7114.0214 | Loglikelihood: -6906.4780 | KL: 1.275552\n",
      "Iter 54000:(72.8s) Lower Bound: -7113.4856 | Loglikelihood: -6908.8530 | KL: 1.200928\n",
      "Iter 55000:(71.3s) Lower Bound: -7112.9916 | Loglikelihood: -6907.0396 | KL: 1.136514\n",
      ">>> Iter 55000:(3.2s) Test Lower Bound: -7134.1963\n",
      "Iter 56000:(72.4s) Lower Bound: -7112.6184 | Loglikelihood: -6905.0942 | KL: 1.056942\n",
      "Iter 57000:(70.9s) Lower Bound: -7112.3537 | Loglikelihood: -6907.1484 | KL: 0.980134\n",
      "Iter 58000:(71.2s) Lower Bound: -7112.1654 | Loglikelihood: -6904.0024 | KL: 0.905000\n",
      "Iter 59000:(71.2s) Lower Bound: -7111.6399 | Loglikelihood: -6903.1011 | KL: 0.862840\n",
      "Iter 60000:(70.5s) Lower Bound: -7111.4810 | Loglikelihood: -6904.9438 | KL: 0.797745\n",
      ">>> Iter 60000:(3.2s) Test Lower Bound: -7124.2295\n",
      "Iter 61000:(71.9s) Lower Bound: -7111.2690 | Loglikelihood: -6904.1689 | KL: 0.755387\n",
      "Iter 62000:(71.3s) Lower Bound: -7111.1536 | Loglikelihood: -6904.6299 | KL: 0.720711\n",
      "Iter 63000:(71.1s) Lower Bound: -7110.8738 | Loglikelihood: -6904.4414 | KL: 0.677488\n",
      "Iter 64000:(71.3s) Lower Bound: -7110.7393 | Loglikelihood: -6903.8511 | KL: 0.634249\n",
      "Iter 65000:(70.7s) Lower Bound: -7110.5150 | Loglikelihood: -6902.6445 | KL: 0.597649\n",
      ">>> Iter 65000:(3.3s) Test Lower Bound: -7124.2988\n",
      "Iter 66000:(71.5s) Lower Bound: -7110.3230 | Loglikelihood: -6903.0107 | KL: 0.563590\n",
      "Iter 67000:(71.0s) Lower Bound: -7110.2331 | Loglikelihood: -6901.3042 | KL: 0.539968\n",
      "Iter 68000:(71.2s) Lower Bound: -7110.0874 | Loglikelihood: -6899.2109 | KL: 0.514435\n",
      "Iter 69000:(70.9s) Lower Bound: -7110.0360 | Loglikelihood: -6902.4351 | KL: 0.492807\n",
      "Iter 70000:(71.9s) Lower Bound: -7109.8848 | Loglikelihood: -6902.8784 | KL: 0.462090\n",
      ">>> Iter 70000:(3.2s) Test Lower Bound: -7117.7070\n",
      "Iter 71000:(72.0s) Lower Bound: -7109.6951 | Loglikelihood: -6900.9429 | KL: 0.438283\n",
      "Iter 72000:(73.8s) Lower Bound: -7109.6554 | Loglikelihood: -6901.5020 | KL: 0.420346\n",
      "Iter 73000:(74.5s) Lower Bound: -7109.5568 | Loglikelihood: -6900.0454 | KL: 0.395146\n",
      "Iter 74000:(74.0s) Lower Bound: -7109.4667 | Loglikelihood: -6899.0186 | KL: 0.366714\n",
      "Iter 75000:(74.5s) Lower Bound: -7109.4493 | Loglikelihood: -6901.5615 | KL: 0.343570\n",
      ">>> Iter 75000:(3.3s) Test Lower Bound: -7119.7461\n",
      "Iter 76000:(71.0s) Lower Bound: -7109.4364 | Loglikelihood: -6899.9531 | KL: 0.328705\n",
      "Iter 77000:(70.3s) Lower Bound: -7109.3369 | Loglikelihood: -6898.9648 | KL: 0.315854\n",
      "Iter 78000:(71.6s) Lower Bound: -7109.3147 | Loglikelihood: -6900.2739 | KL: 0.293280\n",
      "Iter 79000:(70.6s) Lower Bound: -7109.1937 | Loglikelihood: -6899.6396 | KL: 0.275004\n",
      "Iter 80000:(70.8s) Lower Bound: -7109.1678 | Loglikelihood: -6898.8970 | KL: 0.262062\n",
      ">>> Iter 80000:(3.2s) Test Lower Bound: -7116.0767\n",
      "Iter 81000:(70.7s) Lower Bound: -7109.0484 | Loglikelihood: -6896.8369 | KL: 0.247594\n",
      "Iter 82000:(70.1s) Lower Bound: -7109.0754 | Loglikelihood: -6900.9062 | KL: 0.238834\n",
      "Iter 83000:(70.5s) Lower Bound: -7109.0780 | Loglikelihood: -6897.0659 | KL: 0.229249\n",
      "Iter 84000:(70.6s) Lower Bound: -7109.0107 | Loglikelihood: -6900.1182 | KL: 0.216634\n",
      "Iter 85000:(70.2s) Lower Bound: -7108.9697 | Loglikelihood: -6896.8149 | KL: 0.206240\n",
      ">>> Iter 85000:(3.1s) Test Lower Bound: -7117.2256\n"
     ]
    },
    {
     "name": "stdout",
     "output_type": "stream",
     "text": [
      "Iter 86000:(70.8s) Lower Bound: -7109.0137 | Loglikelihood: -6898.3477 | KL: 0.194484\n",
      "Iter 87000:(71.3s) Lower Bound: -7108.9195 | Loglikelihood: -6898.2754 | KL: 0.182749\n",
      "Iter 88000:(70.7s) Lower Bound: -7108.8470 | Loglikelihood: -6898.0054 | KL: 0.173490\n",
      "Iter 89000:(71.2s) Lower Bound: -7108.9318 | Loglikelihood: -6895.8335 | KL: 0.164472\n",
      "Iter 90000:(70.3s) Lower Bound: -7108.8392 | Loglikelihood: -6898.3750 | KL: 0.156428\n",
      ">>> Iter 90000:(3.2s) Test Lower Bound: -7113.7700\n",
      "Iter 91000:(70.4s) Lower Bound: -7108.8848 | Loglikelihood: -6895.7695 | KL: 0.147041\n",
      "Iter 92000:(71.3s) Lower Bound: -7108.8084 | Loglikelihood: -6898.1514 | KL: 0.141001\n",
      "Iter 93000:(70.2s) Lower Bound: -7108.8330 | Loglikelihood: -6898.5000 | KL: 0.134461\n",
      "Iter 94000:(71.2s) Lower Bound: -7108.8161 | Loglikelihood: -6896.3804 | KL: 0.128637\n",
      "Iter 95000:(70.6s) Lower Bound: -7108.8253 | Loglikelihood: -6896.9551 | KL: 0.124088\n",
      ">>> Iter 95000:(3.1s) Test Lower Bound: -7113.9683\n",
      "Iter 96000:(70.6s) Lower Bound: -7108.7537 | Loglikelihood: -6897.3267 | KL: 0.119324\n",
      "Iter 97000:(70.4s) Lower Bound: -7108.7983 | Loglikelihood: -6897.0425 | KL: 0.114750\n",
      "Iter 98000:(70.6s) Lower Bound: -7108.8052 | Loglikelihood: -6896.6685 | KL: 0.112212\n",
      "Iter 99000:(70.6s) Lower Bound: -7108.7395 | Loglikelihood: -6897.9458 | KL: 0.108479\n",
      "Iter 100000:(70.6s) Lower Bound: -7108.7295 | Loglikelihood: -6896.6138 | KL: 0.105339\n",
      ">>> Iter 100000:(3.1s) Test Lower Bound: -7111.0786\n",
      "Iter 101000:(71.1s) Lower Bound: -7108.8402 | Loglikelihood: -6897.4331 | KL: 0.103067\n",
      "Iter 102000:(70.7s) Lower Bound: -7108.7728 | Loglikelihood: -6897.1084 | KL: 0.101044\n",
      "Iter 103000:(70.1s) Lower Bound: -7108.7877 | Loglikelihood: -6895.5010 | KL: 0.099331\n",
      "Iter 104000:(69.7s) Lower Bound: -7108.7923 | Loglikelihood: -6896.4282 | KL: 0.097870\n",
      "Iter 105000:(70.7s) Lower Bound: -7108.7105 | Loglikelihood: -6896.1001 | KL: 0.096688\n",
      ">>> Iter 105000:(3.1s) Test Lower Bound: -7113.9092\n",
      "Iter 106000:(70.7s) Lower Bound: -7108.7593 | Loglikelihood: -6895.1680 | KL: 0.095529\n",
      "Iter 107000:(69.3s) Lower Bound: -7108.7706 | Loglikelihood: -6896.5327 | KL: 0.094230\n",
      "Iter 108000:(70.7s) Lower Bound: -7108.7868 | Loglikelihood: -6895.7778 | KL: 0.093472\n",
      "Iter 109000:(69.6s) Lower Bound: -7108.7807 | Loglikelihood: -6896.1782 | KL: 0.092572\n",
      "Iter 110000:(69.9s) Lower Bound: -7108.7518 | Loglikelihood: -6895.9658 | KL: 0.091563\n",
      ">>> Iter 110000:(3.1s) Test Lower Bound: -7110.8223\n",
      "Iter 111000:(70.8s) Lower Bound: -7108.7156 | Loglikelihood: -6896.4927 | KL: 0.090671\n",
      "Iter 112000:(69.4s) Lower Bound: -7108.7823 | Loglikelihood: -6896.4678 | KL: 0.089666\n",
      "Iter 113000:(70.7s) Lower Bound: -7108.7576 | Loglikelihood: -6894.9204 | KL: 0.088764\n",
      "Iter 114000:(70.1s) Lower Bound: -7108.7363 | Loglikelihood: -6896.5649 | KL: 0.088153\n",
      "Iter 115000:(70.0s) Lower Bound: -7108.7509 | Loglikelihood: -6896.3252 | KL: 0.087122\n",
      ">>> Iter 115000:(3.1s) Test Lower Bound: -7112.7212\n",
      "Iter 116000:(70.0s) Lower Bound: -7108.7283 | Loglikelihood: -6896.2246 | KL: 0.086398\n",
      "Iter 117000:(69.8s) Lower Bound: -7108.7816 | Loglikelihood: -6896.2715 | KL: 0.085746\n",
      "Iter 118000:(70.9s) Lower Bound: -7108.7557 | Loglikelihood: -6895.3057 | KL: 0.085028\n",
      "Iter 119000:(70.0s) Lower Bound: -7108.7439 | Loglikelihood: -6896.5093 | KL: 0.084483\n",
      "Iter 120000:(70.1s) Lower Bound: -7108.7646 | Loglikelihood: -6896.0806 | KL: 0.083946\n",
      ">>> Iter 120000:(3.1s) Test Lower Bound: -7111.3965\n",
      "Iter 121000:(69.8s) Lower Bound: -7108.7671 | Loglikelihood: -6896.4883 | KL: 0.083590\n",
      "Iter 122000:(69.9s) Lower Bound: -7108.7309 | Loglikelihood: -6896.8979 | KL: 0.083282\n",
      "Iter 123000:(70.3s) Lower Bound: -7108.7761 | Loglikelihood: -6896.5239 | KL: 0.082923\n",
      "Iter 124000:(70.0s) Lower Bound: -7108.7659 | Loglikelihood: -6896.1172 | KL: 0.082625\n",
      "Iter 125000:(70.3s) Lower Bound: -7108.7585 | Loglikelihood: -6897.4331 | KL: 0.082413\n",
      ">>> Iter 125000:(3.2s) Test Lower Bound: -7110.7446\n",
      "Iter 126000:(69.4s) Lower Bound: -7108.7647 | Loglikelihood: -6895.8789 | KL: 0.082107\n",
      "Iter 127000:(70.1s) Lower Bound: -7108.7826 | Loglikelihood: -6895.1748 | KL: 0.081675\n",
      "Iter 128000:(69.5s) Lower Bound: -7108.7421 | Loglikelihood: -6896.0791 | KL: 0.081418\n",
      "Iter 129000:(70.0s) Lower Bound: -7108.7259 | Loglikelihood: -6896.1460 | KL: 0.081164\n",
      "Iter 130000:(70.0s) Lower Bound: -7108.7412 | Loglikelihood: -6896.5342 | KL: 0.080826\n",
      ">>> Iter 130000:(3.1s) Test Lower Bound: -7110.5903\n",
      "Iter 131000:(69.3s) Lower Bound: -7108.7398 | Loglikelihood: -6895.0532 | KL: 0.080515\n",
      "Iter 132000:(71.4s) Lower Bound: -7108.7592 | Loglikelihood: -6895.4580 | KL: 0.080282\n",
      "Iter 133000:(69.8s) Lower Bound: -7108.7300 | Loglikelihood: -6897.0781 | KL: 0.079882\n",
      "Iter 134000:(70.0s) Lower Bound: -7108.7390 | Loglikelihood: -6897.1743 | KL: 0.079652\n",
      "Iter 135000:(70.1s) Lower Bound: -7108.7327 | Loglikelihood: -6896.6245 | KL: 0.079327\n",
      ">>> Iter 135000:(3.1s) Test Lower Bound: -7111.1924\n",
      "Iter 136000:(69.3s) Lower Bound: -7108.7156 | Loglikelihood: -6895.7417 | KL: 0.079123\n",
      "Iter 137000:(70.6s) Lower Bound: -7108.7808 | Loglikelihood: -6895.6484 | KL: 0.078953\n",
      "Iter 138000:(69.3s) Lower Bound: -7108.7382 | Loglikelihood: -6896.9062 | KL: 0.078691\n",
      "Iter 139000:(70.1s) Lower Bound: -7108.7479 | Loglikelihood: -6895.0664 | KL: 0.078388\n",
      "Iter 140000:(70.6s) Lower Bound: -7108.7752 | Loglikelihood: -6894.4365 | KL: 0.078302\n",
      ">>> Iter 140000:(3.1s) Test Lower Bound: -7111.0034\n",
      "Iter 141000:(70.9s) Lower Bound: -7108.6948 | Loglikelihood: -6894.7334 | KL: 0.078012\n",
      "Iter 142000:(69.7s) Lower Bound: -7108.7700 | Loglikelihood: -6894.8140 | KL: 0.077865\n",
      "Iter 143000:(70.0s) Lower Bound: -7108.7347 | Loglikelihood: -6894.5679 | KL: 0.077705\n",
      "Iter 144000:(69.3s) Lower Bound: -7108.7465 | Loglikelihood: -6895.7148 | KL: 0.077663\n",
      "Iter 145000:(69.7s) Lower Bound: -7108.7744 | Loglikelihood: -6896.0083 | KL: 0.077562\n",
      ">>> Iter 145000:(3.1s) Test Lower Bound: -7110.5210\n",
      "Iter 146000:(70.6s) Lower Bound: -7108.7274 | Loglikelihood: -6896.1270 | KL: 0.077472\n",
      "Iter 147000:(69.4s) Lower Bound: -7108.7172 | Loglikelihood: -6895.8325 | KL: 0.077394\n",
      "Iter 148000:(69.9s) Lower Bound: -7108.7741 | Loglikelihood: -6896.5708 | KL: 0.077301\n",
      "Iter 149000:(69.8s) Lower Bound: -7108.7697 | Loglikelihood: -6895.0283 | KL: 0.077124\n",
      "Iter 150000:(69.3s) Lower Bound: -7108.7313 | Loglikelihood: -6895.8569 | KL: 0.076967\n",
      ">>> Iter 150000:(3.1s) Test Lower Bound: -7112.8872\n",
      "Iter 151000:(70.5s) Lower Bound: -7108.7140 | Loglikelihood: -6896.0757 | KL: 0.076863\n",
      "Iter 152000:(69.2s) Lower Bound: -7108.7325 | Loglikelihood: -6897.2324 | KL: 0.076732\n",
      "Iter 153000:(70.5s) Lower Bound: -7108.7584 | Loglikelihood: -6896.2544 | KL: 0.076575\n",
      "Iter 154000:(70.0s) Lower Bound: -7108.7637 | Loglikelihood: -6895.0942 | KL: 0.076483\n",
      "Iter 155000:(69.3s) Lower Bound: -7108.7721 | Loglikelihood: -6896.1313 | KL: 0.076342\n",
      ">>> Iter 155000:(3.1s) Test Lower Bound: -7111.1567\n",
      "Iter 156000:(70.6s) Lower Bound: -7108.6853 | Loglikelihood: -6895.5630 | KL: 0.076187\n",
      "Iter 157000:(69.8s) Lower Bound: -7108.7848 | Loglikelihood: -6896.7388 | KL: 0.076085\n",
      "Iter 158000:(71.1s) Lower Bound: -7108.7573 | Loglikelihood: -6896.1768 | KL: 0.075982\n",
      "Iter 159000:(70.2s) Lower Bound: -7108.7256 | Loglikelihood: -6896.1787 | KL: 0.075956\n",
      "Iter 160000:(70.0s) Lower Bound: -7108.7992 | Loglikelihood: -6896.0605 | KL: 0.075835\n",
      ">>> Iter 160000:(3.1s) Test Lower Bound: -7110.7251\n",
      "Iter 161000:(69.7s) Lower Bound: -7108.7338 | Loglikelihood: -6895.0435 | KL: 0.075770\n",
      "Iter 162000:(69.9s) Lower Bound: -7108.7351 | Loglikelihood: -6894.8438 | KL: 0.075708\n",
      "Iter 163000:(69.9s) Lower Bound: -7108.7663 | Loglikelihood: -6895.8218 | KL: 0.075656\n",
      "Iter 164000:(69.8s) Lower Bound: -7108.7224 | Loglikelihood: -6895.3149 | KL: 0.075562\n",
      "Iter 165000:(70.5s) Lower Bound: -7108.7520 | Loglikelihood: -6895.6021 | KL: 0.075482\n",
      ">>> Iter 165000:(3.1s) Test Lower Bound: -7110.7495\n",
      "Iter 166000:(69.2s) Lower Bound: -7108.7082 | Loglikelihood: -6897.2144 | KL: 0.075421\n",
      "Iter 167000:(69.9s) Lower Bound: -7108.7252 | Loglikelihood: -6896.4189 | KL: 0.075358\n",
      "Iter 168000:(69.9s) Lower Bound: -7108.7614 | Loglikelihood: -6895.7446 | KL: 0.075288\n",
      "Iter 169000:(69.7s) Lower Bound: -7108.7331 | Loglikelihood: -6896.6118 | KL: 0.075215\n",
      "Iter 170000:(70.6s) Lower Bound: -7108.7609 | Loglikelihood: -6896.0918 | KL: 0.075159\n"
     ]
    },
    {
     "name": "stdout",
     "output_type": "stream",
     "text": [
      ">>> Iter 170000:(3.1s) Test Lower Bound: -7110.7456\n",
      "Iter 171000:(69.5s) Lower Bound: -7108.7327 | Loglikelihood: -6896.2480 | KL: 0.075119\n",
      "Iter 172000:(69.9s) Lower Bound: -7108.7497 | Loglikelihood: -6892.7017 | KL: 0.075090\n",
      "Iter 173000:(69.8s) Lower Bound: -7108.7567 | Loglikelihood: -6895.7524 | KL: 0.075043\n",
      "Iter 174000:(69.3s) Lower Bound: -7108.7237 | Loglikelihood: -6897.6465 | KL: 0.074982\n",
      "Iter 175000:(69.8s) Lower Bound: -7108.7211 | Loglikelihood: -6897.1147 | KL: 0.074886\n",
      ">>> Iter 175000:(3.1s) Test Lower Bound: -7110.6768\n",
      "Iter 176000:(69.2s) Lower Bound: -7108.7335 | Loglikelihood: -6895.1670 | KL: 0.074827\n",
      "Iter 177000:(70.4s) Lower Bound: -7108.7253 | Loglikelihood: -6896.8071 | KL: 0.074842\n",
      "Iter 178000:(69.9s) Lower Bound: -7108.7071 | Loglikelihood: -6895.8433 | KL: 0.074761\n",
      "Iter 179000:(69.9s) Lower Bound: -7108.7234 | Loglikelihood: -6896.5327 | KL: 0.074765\n",
      "Iter 180000:(69.9s) Lower Bound: -7108.7299 | Loglikelihood: -6895.4243 | KL: 0.074754\n",
      ">>> Iter 180000:(3.1s) Test Lower Bound: -7110.6372\n",
      "Iter 181000:(70.0s) Lower Bound: -7108.7673 | Loglikelihood: -6895.6973 | KL: 0.074743\n",
      "Iter 182000:(69.8s) Lower Bound: -7108.7096 | Loglikelihood: -6895.6724 | KL: 0.074692\n",
      "Iter 183000:(69.9s) Lower Bound: -7108.7776 | Loglikelihood: -6895.6196 | KL: 0.074697\n",
      "Iter 184000:(70.0s) Lower Bound: -7108.7586 | Loglikelihood: -6896.0469 | KL: 0.074621\n",
      "Iter 185000:(71.1s) Lower Bound: -7108.7612 | Loglikelihood: -6896.4087 | KL: 0.074606\n",
      ">>> Iter 185000:(3.1s) Test Lower Bound: -7114.7725\n",
      "Iter 186000:(70.3s) Lower Bound: -7108.7541 | Loglikelihood: -6896.5171 | KL: 0.074624\n",
      "Iter 187000:(69.4s) Lower Bound: -7108.7337 | Loglikelihood: -6895.0571 | KL: 0.074568\n",
      "Iter 188000:(69.9s) Lower Bound: -7108.7243 | Loglikelihood: -6894.4834 | KL: 0.074556\n",
      "Iter 189000:(70.1s) Lower Bound: -7108.7218 | Loglikelihood: -6895.8784 | KL: 0.074461\n",
      "Iter 190000:(69.2s) Lower Bound: -7108.7626 | Loglikelihood: -6896.4312 | KL: 0.074442\n",
      ">>> Iter 190000:(3.1s) Test Lower Bound: -7110.6992\n",
      "Iter 191000:(70.8s) Lower Bound: -7108.7793 | Loglikelihood: -6896.8315 | KL: 0.074365\n",
      "Iter 192000:(69.3s) Lower Bound: -7108.7325 | Loglikelihood: -6895.9717 | KL: 0.074330\n",
      "Iter 193000:(69.8s) Lower Bound: -7108.7663 | Loglikelihood: -6896.5815 | KL: 0.074288\n",
      "Iter 194000:(69.9s) Lower Bound: -7108.7121 | Loglikelihood: -6896.5171 | KL: 0.074207\n",
      "Iter 195000:(69.3s) Lower Bound: -7108.7576 | Loglikelihood: -6896.5527 | KL: 0.074174\n",
      ">>> Iter 195000:(3.1s) Test Lower Bound: -7110.9741\n",
      "Iter 196000:(70.5s) Lower Bound: -7108.7408 | Loglikelihood: -6894.5088 | KL: 0.074100\n",
      "Iter 197000:(70.1s) Lower Bound: -7108.7254 | Loglikelihood: -6896.5728 | KL: 0.074078\n",
      "Iter 198000:(69.9s) Lower Bound: -7108.7113 | Loglikelihood: -6896.3838 | KL: 0.074034\n",
      "Iter 199000:(70.3s) Lower Bound: -7108.7578 | Loglikelihood: -6895.3750 | KL: 0.073989\n",
      "Iter 200000:(69.5s) Lower Bound: -7108.7954 | Loglikelihood: -6895.4814 | KL: 0.073919\n",
      ">>> Iter 200000:(3.2s) Test Lower Bound: -7112.4233\n"
     ]
    }
   ],
   "source": [
    "# run vbpi.\n",
    "# the trained model will be saved to 'results/DS1/ufboot_vimco_10_psp.pt'.\n",
    "test_lb, test_kl_div = model.learn(0.001, maxiter=200000, n_particles=10, warm_start_interval=100000, method='vimco',\n",
    "                                   save_to_path='../results/DS1/ufboot_vimco_10_psp.pt')"
   ]
  },
  {
   "cell_type": "code",
   "execution_count": 9,
   "id": "6bd01740",
   "metadata": {},
   "outputs": [],
   "source": [
    "# load a trained model/checkpoint for test\n",
    "model.load_from('../results/DS1/ufboot_vimco_10_psp.pt')"
   ]
  },
  {
   "cell_type": "code",
   "execution_count": 10,
   "id": "698fce79",
   "metadata": {},
   "outputs": [
    {
     "data": {
      "text/plain": [
       "0.07391851477720657"
      ]
     },
     "execution_count": 10,
     "metadata": {},
     "output_type": "execute_result"
    }
   ],
   "source": [
    "# compute the KL divergence\n",
    "model.kl_div()"
   ]
  },
  {
   "cell_type": "code",
   "execution_count": 15,
   "id": "675eee2b",
   "metadata": {},
   "outputs": [],
   "source": [
    "# compute the evidence lower bound\n",
    "lower_bound_1_sample = np.array([model.lower_bound(n_particles=1, n_runs=1000) for i in range(100)])"
   ]
  },
  {
   "cell_type": "code",
   "execution_count": 16,
   "id": "2fee8d46",
   "metadata": {},
   "outputs": [
    {
     "data": {
      "text/plain": [
       "(-7111.295024414063, 0.977415126557402)"
      ]
     },
     "execution_count": 16,
     "metadata": {},
     "output_type": "execute_result"
    }
   ],
   "source": [
    "np.mean(lower_bound_1_sample), np.std(lower_bound_1_sample)"
   ]
  },
  {
   "cell_type": "code",
   "execution_count": 17,
   "id": "b5e0eec8",
   "metadata": {},
   "outputs": [],
   "source": [
    "# compute the marginal likelihood\n",
    "marginal_likelihood_est = np.array([model.lower_bound(n_particles=1000, n_runs=1) for i in range(100)])"
   ]
  },
  {
   "cell_type": "code",
   "execution_count": 18,
   "id": "8abb4f37",
   "metadata": {},
   "outputs": [
    {
     "data": {
      "text/plain": [
       "(-7108.396044921875, 0.1608000751888991)"
      ]
     },
     "execution_count": 18,
     "metadata": {},
     "output_type": "execute_result"
    }
   ],
   "source": [
    "np.mean(marginal_likelihood_est), np.std(marginal_likelihood_est)"
   ]
  },
  {
   "cell_type": "code",
   "execution_count": null,
   "id": "041a2013",
   "metadata": {},
   "outputs": [],
   "source": []
  }
 ],
 "metadata": {
  "kernelspec": {
   "display_name": "Python 3",
   "language": "python",
   "name": "python3"
  },
  "language_info": {
   "codemirror_mode": {
    "name": "ipython",
    "version": 3
   },
   "file_extension": ".py",
   "mimetype": "text/x-python",
   "name": "python",
   "nbconvert_exporter": "python",
   "pygments_lexer": "ipython3",
   "version": "3.7.9"
  }
 },
 "nbformat": 4,
 "nbformat_minor": 5
}
